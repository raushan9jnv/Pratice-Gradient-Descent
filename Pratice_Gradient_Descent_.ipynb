{
  "nbformat": 4,
  "nbformat_minor": 0,
  "metadata": {
    "colab": {
      "name": "Pratice Gradient Descent .ipynb",
      "provenance": [],
      "authorship_tag": "ABX9TyOddbzf2UWE1T6sMi61RKaD",
      "include_colab_link": true
    },
    "kernelspec": {
      "name": "python3",
      "display_name": "Python 3"
    },
    "language_info": {
      "name": "python"
    }
  },
  "cells": [
    {
      "cell_type": "markdown",
      "metadata": {
        "id": "view-in-github",
        "colab_type": "text"
      },
      "source": [
        "<a href=\"https://colab.research.google.com/github/raushan9jnv/Pratice-Gradient-Descent/blob/main/Pratice_Gradient_Descent_.ipynb\" target=\"_parent\"><img src=\"https://colab.research.google.com/assets/colab-badge.svg\" alt=\"Open In Colab\"/></a>"
      ]
    },
    {
      "cell_type": "code",
      "metadata": {
        "id": "Hk3yoVpuR30h"
      },
      "source": [
        "#Matrix computations\n",
        "from numpy import *\n",
        "\n",
        "#plotting\n",
        "from matplotlib.pyplot import *\n",
        "\n",
        "#change size of figures\n",
        "fig_size =[9,7]\n",
        "rcParams [\"figure.figsize\"] =fig_size"
      ],
      "execution_count": null,
      "outputs": []
    },
    {
      "cell_type": "code",
      "metadata": {
        "id": "zUtXXEUmYqI5"
      },
      "source": [
        "#define function f(x)\n",
        "def f(x):\n",
        "  return 0.1*x**2 + sin(0.1*x**2)"
      ],
      "execution_count": null,
      "outputs": []
    },
    {
      "cell_type": "code",
      "metadata": {
        "colab": {
          "base_uri": "https://localhost:8080/",
          "height": 295
        },
        "id": "kNqyFcpTZVL_",
        "outputId": "deb63cf8-8089-45bf-ad24-e7379f5b636a"
      },
      "source": [
        "#plot function on given range\n",
        "#second arguments allows for seperate points to be ploted on f(x)\n",
        "def plotf(x, xdots, label):\n",
        "  #compute y-values\n",
        "  y =f(x)\n",
        "\n",
        "  #plot (x, f(x))\n",
        "\n",
        "  plot(x,y)\n",
        "  xlabel(\"x\")\n",
        "  ylabel(\"f(x)\")\n",
        "  title(label)\n",
        "\n",
        "  #plot points on f(x)\n",
        "  plot(xdots, f(xdots),'bo')\n",
        "  show()\n",
        "\n",
        "#plot f(X) from [-10,10]\n",
        "x = arange(-10,10,0.1) \n",
        "plotf(x, np.array([]), \"single variable function\")"
      ],
      "execution_count": null,
      "outputs": [
        {
          "output_type": "display_data",
          "data": {
            "image/png": "[encoded data removed]",
            "text/plain": [
              "<Figure size 432x288 with 1 Axes>"
            ]
          },
          "metadata": {
            "tags": [],
            "needs_background": "light"
          }
        }
      ]
    },
    {
      "cell_type": "code",
      "metadata": {
        "id": "DVoM5F3mYqK0"
      },
      "source": [
        ""
      ],
      "execution_count": null,
      "outputs": []
    },
    {
      "cell_type": "code",
      "metadata": {
        "id": "GJKE5xypYqPX"
      },
      "source": [
        ""
      ],
      "execution_count": null,
      "outputs": []
    }
  ]
}